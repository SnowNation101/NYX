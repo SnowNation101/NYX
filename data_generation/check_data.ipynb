{
 "cells": [
  {
   "cell_type": "markdown",
   "metadata": {},
   "source": [
    "# Check Downloaded Data"
   ]
  },
  {
   "cell_type": "code",
   "execution_count": 1,
   "metadata": {},
   "outputs": [],
   "source": [
    "import json\n",
    "\n",
    "dataset = []\n",
    "with open(\"/fs/archive/share/mm_datasets/obelics_processed.jsonl\", \"r\") as f:\n",
    "    for line in f:\n",
    "        data = json.loads(line)  # Parse the JSON line into a dictionary\n",
    "        dataset.append(data)  # Append each parsed dictionary to the dataset list"
   ]
  },
  {
   "cell_type": "code",
   "execution_count": 2,
   "metadata": {},
   "outputs": [
    {
     "data": {
      "text/plain": [
       "16232"
      ]
     },
     "execution_count": 2,
     "metadata": {},
     "output_type": "execute_result"
    }
   ],
   "source": [
    "len(dataset)"
   ]
  },
  {
   "cell_type": "code",
   "execution_count": 11,
   "metadata": {},
   "outputs": [
    {
     "data": {
      "text/plain": [
       "{'text': \"Harry Potter and the Chamber of Secrets\\n\\nThe Crimes of Grindelwald opened below expectations with $62.2 million.\\n\\nEarly tracking for Warner Bros.’ Fantastic Beasts: The Crimes of Grindelwald in September had projected the Harry Potter spin-off would open with $75 million, just slightly above the $74.4 million earned by its predecessor, 2016’s Fantastic Beasts and Where to Find Them. Eventually, those numbers would be adjusted down, and, as many expected, The Crimes of Grindelwald underperformed and debuted with $62.2 million, the lowest opening weekend for any Harry Potter franchise movie. We’re going to take a deep dive through the numbers and try to determine why one of Hollywood’s most consistent franchises has seemingly fallen on hard times, so to speak.\\n\\nA $62.2 million debut, with a $14,941 per-screen average from 4,163 theaters would be considered a strong opening weekend for most movies, but it pales in comparison to the eight-movie flagship Harry Potter franchise. There is clearly still a strong audience and demand for the universe as a whole, given the strong success of the stage play Harry Potter and the Cursed Child, the Harry Potter theme parks at Universal Studios and the Pottermore website which features new stories within the universe. Perhaps the biggest reason why the two Fantastic Beasts movies haven’t done nearly as well as the original movies is the lack of Harry Potter himself.\\n\\nBefore we dive into the particulars of Fantastic Beasts 2's debut, here are the estimates for the Top 10 movies at the North American weekend box office (via Box Office Mojo):\\n\\nWhile Fantastic Beasts: The Crimes of Grindelwald did introduce Jude Law as a younger version of Hogwarts headmaster Albus Dumbledore (played in the original movies by Richard Harris and Michael Gambon), the story still takes place decades before Harry Potter was even born. Warner Bros. is planning five movies in this Fantastic Beasts series, so it’s possible that they could ultimately catch up to the beginning of the Harry Potter series, where the 11-year-old wizard gets invited to attend Hogwarts School of Witchcraft and Wizardry. Still, even if that does happen, fans likely won’t see too much of Harry.\\n\\nAnother possibility for the lackluster debut of Fantastic Beasts 2 is the controversy swirling around star Johnny Depp, who plays dark wizard Gellert Grindelwald, Depp's ex-wife Amber Heard accused him of abuse in 2016. After the couple split up, it was revealed in a brief cameo in Fantastic Beasts and Where to Find Them that Depp is playing Grindelwald and returning for the sequel. The news of Depp landing this pivotal role lead many fans to call out the filmmakers for casting Depp, though most defended the actor and the casting choice, including author J.K. Rowling, who wrote the screenplay for both Fantastic Beasts and Where to Find Them and Fantastic Beasts: The Crimes of Grindelwald. While Depp was certainly cast as Grindelwald long before the abuse allegations surfaced, many fans called out the filmmakers and producers for keeping him on board after the allegations surfaced.\\n\\nHarry Potter and the Chamber of Secrets<|image|><|image|><|image|><|image|>\",\n",
       " 'images': ['0.jpg', '1.jpg', '2.jpg', '3.jpg'],\n",
       " 'source_data': {'images': [None,\n",
       "   'https://sm.ign.com/t/ign_ap/news/c/comic-con-/comic-con-2018-dozens-of-aquaman-toys-create-epic-undersea-b_tnt4.280.jpg',\n",
       "   'https://sm.ign.com/t/ign_ap/news/f/firewatch-/firewatch-artist-olly-moss-creates-7-harry-potter-posters_beu5.280.jpg',\n",
       "   'https://sm.ign.com/t/ign_ap/gallery/o/olly-moss-/olly-moss-harry-potter-posters_wwp2.280.png',\n",
       "   'https://sm.ign.com/t/ign_ap/news/j/jk-rowling-answers-harry-potter-questions-from-fan/jk-rowling-answers-harry-potter-questions-from-fan_ht38.280.jpg'],\n",
       "  'metadata': '[null, {\"document_url\": \"https://sea.ign.com/harry-potter-and-the-chamber-of-secrets/143547/feature/breaking-down-why-fantastic-beasts-2-had-the-worst-box-office-debut-in-harry-potter-history\", \"unformatted_src\": \"https://sm.ign.com/t/ign_ap/news/c/comic-con-/comic-con-2018-dozens-of-aquaman-toys-create-epic-undersea-b_tnt4.280.jpg\", \"src\": \"https://sm.ign.com/t/ign_ap/news/c/comic-con-/comic-con-2018-dozens-of-aquaman-toys-create-epic-undersea-b_tnt4.280.jpg\", \"formatted_filename\": \"comic con dozens of aquaman toys create epic undersea b tnt\", \"alt_text\": \"Comic-Con 2018: Dozens of Aquaman Toys Create Epic Undersea Battle at Comic-Con 2018 (News Harry Potter and the Chamber of Secrets)\", \"original_width\": 280, \"original_height\": 157, \"format\": \"jpeg\"}, {\"document_url\": \"https://sea.ign.com/harry-potter-and-the-chamber-of-secrets/143547/feature/breaking-down-why-fantastic-beasts-2-had-the-worst-box-office-debut-in-harry-potter-history\", \"unformatted_src\": \"https://sm.ign.com/t/ign_ap/news/f/firewatch-/firewatch-artist-olly-moss-creates-7-harry-potter-posters_beu5.280.jpg\", \"src\": \"https://sm.ign.com/t/ign_ap/news/f/firewatch-/firewatch-artist-olly-moss-creates-7-harry-potter-posters_beu5.280.jpg\", \"formatted_filename\": \"firewatch artist olly moss creates harry potter posters beu\", \"alt_text\": \"Firewatch Artist Olly Moss Creates 7 Harry Potter Posters (News Harry Potter and the Chamber of Secrets)\", \"original_width\": 280, \"original_height\": 157, \"format\": \"jpeg\"}, {\"document_url\": \"https://sea.ign.com/harry-potter-and-the-chamber-of-secrets/143547/feature/breaking-down-why-fantastic-beasts-2-had-the-worst-box-office-debut-in-harry-potter-history\", \"unformatted_src\": \"https://sm.ign.com/t/ign_ap/gallery/o/olly-moss-/olly-moss-harry-potter-posters_wwp2.280.png\", \"src\": \"https://sm.ign.com/t/ign_ap/gallery/o/olly-moss-/olly-moss-harry-potter-posters_wwp2.280.png\", \"formatted_filename\": \"olly moss harry potter posters wwp\", \"alt_text\": \"Olly Moss Harry Potter Posters (Slideshow Harry Potter and the Chamber of Secrets)\", \"original_width\": 280, \"original_height\": 280, \"format\": \"jpeg\"}, {\"document_url\": \"https://sea.ign.com/harry-potter-and-the-chamber-of-secrets/143547/feature/breaking-down-why-fantastic-beasts-2-had-the-worst-box-office-debut-in-harry-potter-history\", \"unformatted_src\": \"https://sm.ign.com/t/ign_ap/news/j/jk-rowling-answers-harry-potter-questions-from-fan/jk-rowling-answers-harry-potter-questions-from-fan_ht38.280.jpg\", \"src\": \"https://sm.ign.com/t/ign_ap/news/j/jk-rowling-answers-harry-potter-questions-from-fan/jk-rowling-answers-harry-potter-questions-from-fan_ht38.280.jpg\", \"formatted_filename\": \"jk rowling answers harry potter questions from fan ht\", \"alt_text\": \"J.K. Rowling Answers Harry Potter Questions From Fans (News Harry Potter and the Chamber of Secrets)\", \"original_width\": 280, \"original_height\": 157, \"format\": \"jpeg\"}]',\n",
       "  'general_metadata': '{\"url\": \"https://sea.ign.com/harry-potter-and-the-chamber-of-secrets/143547/feature/breaking-down-why-fantastic-beasts-2-had-the-worst-box-office-debut-in-harry-potter-history\", \"warc_filename\": \"crawl-data/CC-MAIN-2020-45/segments/1603107869933.16/warc/CC-MAIN-20201020050920-20201020080920-00096.warc.gz\", \"warc_record_offset\": 506205640, \"warc_record_length\": 28197}',\n",
       "  'texts': [\"Harry Potter and the Chamber of Secrets\\n\\nThe Crimes of Grindelwald opened below expectations with $62.2 million.\\n\\nEarly tracking for Warner Bros.’ Fantastic Beasts: The Crimes of Grindelwald in September had projected the Harry Potter spin-off would open with $75 million, just slightly above the $74.4 million earned by its predecessor, 2016’s Fantastic Beasts and Where to Find Them. Eventually, those numbers would be adjusted down, and, as many expected, The Crimes of Grindelwald underperformed and debuted with $62.2 million, the lowest opening weekend for any Harry Potter franchise movie. We’re going to take a deep dive through the numbers and try to determine why one of Hollywood’s most consistent franchises has seemingly fallen on hard times, so to speak.\\n\\nA $62.2 million debut, with a $14,941 per-screen average from 4,163 theaters would be considered a strong opening weekend for most movies, but it pales in comparison to the eight-movie flagship Harry Potter franchise. There is clearly still a strong audience and demand for the universe as a whole, given the strong success of the stage play Harry Potter and the Cursed Child, the Harry Potter theme parks at Universal Studios and the Pottermore website which features new stories within the universe. Perhaps the biggest reason why the two Fantastic Beasts movies haven’t done nearly as well as the original movies is the lack of Harry Potter himself.\\n\\nBefore we dive into the particulars of Fantastic Beasts 2's debut, here are the estimates for the Top 10 movies at the North American weekend box office (via Box Office Mojo):\\n\\nWhile Fantastic Beasts: The Crimes of Grindelwald did introduce Jude Law as a younger version of Hogwarts headmaster Albus Dumbledore (played in the original movies by Richard Harris and Michael Gambon), the story still takes place decades before Harry Potter was even born. Warner Bros. is planning five movies in this Fantastic Beasts series, so it’s possible that they could ultimately catch up to the beginning of the Harry Potter series, where the 11-year-old wizard gets invited to attend Hogwarts School of Witchcraft and Wizardry. Still, even if that does happen, fans likely won’t see too much of Harry.\\n\\nAnother possibility for the lackluster debut of Fantastic Beasts 2 is the controversy swirling around star Johnny Depp, who plays dark wizard Gellert Grindelwald, Depp's ex-wife Amber Heard accused him of abuse in 2016. After the couple split up, it was revealed in a brief cameo in Fantastic Beasts and Where to Find Them that Depp is playing Grindelwald and returning for the sequel. The news of Depp landing this pivotal role lead many fans to call out the filmmakers for casting Depp, though most defended the actor and the casting choice, including author J.K. Rowling, who wrote the screenplay for both Fantastic Beasts and Where to Find Them and Fantastic Beasts: The Crimes of Grindelwald. While Depp was certainly cast as Grindelwald long before the abuse allegations surfaced, many fans called out the filmmakers and producers for keeping him on board after the allegations surfaced.\\n\\nHarry Potter and the Chamber of Secrets\",\n",
       "   None,\n",
       "   None,\n",
       "   None,\n",
       "   None]}}"
      ]
     },
     "execution_count": 11,
     "metadata": {},
     "output_type": "execute_result"
    }
   ],
   "source": [
    "dataset[0]"
   ]
  },
  {
   "cell_type": "code",
   "execution_count": 14,
   "metadata": {},
   "outputs": [
    {
     "name": "stdout",
     "output_type": "stream",
     "text": [
      "Number of image tokens : 4\n",
      "Number of downloaded images: 4\n"
     ]
    }
   ],
   "source": [
    "image_count = dataset[0]['text'].count('<|image|>')\n",
    "print(f\"Number of image tokens : {image_count}\")\n",
    "print(f\"Number of downloaded images: {len(dataset[0]['images'])}\")"
   ]
  },
  {
   "cell_type": "code",
   "execution_count": 16,
   "metadata": {},
   "outputs": [
    {
     "name": "stdout",
     "output_type": "stream",
     "text": [
      "All data entries have matching image counts.\n"
     ]
    }
   ],
   "source": [
    "for data in dataset:\n",
    "    if len(data['images']) != data['text'].count('<|image|>'):\n",
    "        print(f\"Mismatch in data: {data['text']}\")\n",
    "        print(f\"Expected images: {data['text'].count('<|image|>')}, Found images: {len(data['images'])}\")\n",
    "        break\n",
    "print(\"All data entries have matching image counts.\")"
   ]
  },
  {
   "cell_type": "code",
   "execution_count": 18,
   "metadata": {},
   "outputs": [
    {
     "name": "stdout",
     "output_type": "stream",
     "text": [
      "Total number of images in the dataset: 39044\n"
     ]
    }
   ],
   "source": [
    "image_number = 0\n",
    "for data in dataset:\n",
    "    image_number += len(data['images'])\n",
    "print(f\"Total number of images in the dataset: {image_number}\")"
   ]
  },
  {
   "cell_type": "code",
   "execution_count": 8,
   "metadata": {},
   "outputs": [],
   "source": [
    "from datasets import load_dataset\n",
    "mmE5_dataset_retrieval = load_dataset(\"/fs/archive/share/mm_datasets/mmE5/mmE5-synthetic\", \"Retrieval\", split=\"train\")"
   ]
  },
  {
   "cell_type": "code",
   "execution_count": 10,
   "metadata": {},
   "outputs": [
    {
     "data": {
      "text/plain": [
       "280000"
      ]
     },
     "execution_count": 10,
     "metadata": {},
     "output_type": "execute_result"
    }
   ],
   "source": [
    "len(mmE5_dataset_retrieval)"
   ]
  }
 ],
 "metadata": {
  "kernelspec": {
   "display_name": "mrag",
   "language": "python",
   "name": "python3"
  },
  "language_info": {
   "codemirror_mode": {
    "name": "ipython",
    "version": 3
   },
   "file_extension": ".py",
   "mimetype": "text/x-python",
   "name": "python",
   "nbconvert_exporter": "python",
   "pygments_lexer": "ipython3",
   "version": "3.11.11"
  }
 },
 "nbformat": 4,
 "nbformat_minor": 2
}
