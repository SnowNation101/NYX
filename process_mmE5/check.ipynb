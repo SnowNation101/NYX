{
 "cells": [
  {
   "cell_type": "code",
   "execution_count": 1,
   "metadata": {},
   "outputs": [],
   "source": [
    "from datasets import load_dataset\n",
    "\n",
    "dataset_path = \"/fs/archive/share/mm_datasets/mmE5/mmE5-synthetic/\"\n",
    "subsets = [\"Classification\", \"Retrieval\", \"VQA\"]\n",
    "mme5_dataset =  {}\n",
    "for subset in subsets:\n",
    "    subset_data = load_dataset(\n",
    "                        dataset_path,\n",
    "                        subset,\n",
    "                        split=\"train\",\n",
    "                    )\n",
    "    mme5_dataset[subset] = subset_data\n"
   ]
  },
  {
   "cell_type": "code",
   "execution_count": 9,
   "metadata": {},
   "outputs": [],
   "source": [
    "query_text = \"Find a Wikipedia image that answers this question: The Shard London Bridge is taller than nearby buildings?\"\n",
    "for subset_name, subset_data in mme5_dataset.items():\n",
    "    for data in subset_data:\n",
    "        if query_text in data[\"qry\"]:\n",
    "            print(f\"Found in subset: {subset_name}\")\n",
    "            print(data)\n",
    "            break"
   ]
  },
  {
   "cell_type": "code",
   "execution_count": 5,
   "metadata": {},
   "outputs": [
    {
     "name": "stdout",
     "output_type": "stream",
     "text": [
      "Number of retrieval samples with T2I or T2IT modality and <|image_1|> in qry: 28171\n",
      "Number of classification samples with T2I or T2IT modality and <|image_1|> in qry: 0\n",
      "Number of VQA samples with T2I or T2IT modality and <|image_1|> in qry: 0\n"
     ]
    }
   ],
   "source": [
    "count = 0\n",
    "for data in mme5_dataset[\"Retrieval\"]:\n",
    "    if data[\"modality\"] in [\"T2I\", \"T2IT\"] and data[\"qry\"].count(\"<|image_1|>\"):\n",
    "        count += 1\n",
    "print(f\"Number of retrieval samples with T2I or T2IT modality and <|image_1|> in qry: {count}\")\n",
    "\n",
    "count = 0\n",
    "for data in mme5_dataset[\"Classification\"]:\n",
    "    if data[\"modality\"] in [\"T2I\", \"T2IT\"] and data[\"qry\"].count(\"<|image_1|>\"):\n",
    "        count += 1\n",
    "print(f\"Number of classification samples with T2I or T2IT modality and <|image_1|> in qry: {count}\")\n",
    "\n",
    "count = 0\n",
    "for data in mme5_dataset[\"VQA\"]:\n",
    "    if data[\"modality\"] in [\"T2I\", \"T2IT\"] and data[\"qry\"].count(\"<|image_1|>\"):\n",
    "        count += 1\n",
    "print(f\"Number of VQA samples with T2I or T2IT modality and <|image_1|> in qry: {count}\")\n"
   ]
  },
  {
   "cell_type": "code",
   "execution_count": null,
   "metadata": {},
   "outputs": [
    {
     "name": "stdout",
     "output_type": "stream",
     "text": [
      "Number of retrieval samples with I2T or IT2T modality and <|image_1|> in pos_text: 0\n"
     ]
    }
   ],
   "source": [
    "count = 0\n",
    "for data in mme5_dataset[\"Retrieval\"]:\n",
    "    if data[\"modality\"] in [\"I2T\", \"IT2T\"] and data[\"pos_text\"].count(\"<|image_1|>\"):\n",
    "        count += 1\n",
    "print(f\"Number of retrieval samples with I2T or IT2T modality and <|image_1|> in pos_text: {count}\")\n",
    "count = 0\n",
    "for data in mme5_dataset[\"Classification\"]:\n",
    "    if data[\"modality\"] in [\"I2T\", \"IT2T\"] and data[\"pos_text\"].count(\"<|image_1|>\"):\n",
    "        count += 1\n",
    "print(f\"Number of classification samples with I2T or IT2T modality and <|image_1|> in pos_text: {count}\")\n",
    "count = 0\n",
    "for data in mme5_dataset[\"VQA\"]:\n",
    "    if data[\"modality\"] in [\"I2T\", \"IT2T\"] and data[\"pos_text\"].count(\"<|image_1|>\"):\n",
    "        count += 1\n",
    "print(f\"Number of VQA samples with I2T or IT2T modality and <|image_1|> in pos_text: {count}\")"
   ]
  },
  {
   "cell_type": "code",
   "execution_count": null,
   "metadata": {},
   "outputs": [
    {
     "name": "stdout",
     "output_type": "stream",
     "text": [
      "Number of retrieval samples with I2T or IT2T modality and <|image_1|> in pos_text: 0\n"
     ]
    }
   ],
   "source": [
    "count = 0\n",
    "for data in mme5_dataset[\"Retrieval\"]:\n",
    "    if data[\"modality\"] in [\"I2T\", \"IT2T\"]:\n",
    "        neg_texts = eval(data[\"neg_text\"])\n",
    "        for neg_text in neg_texts:\n",
    "            if neg_text.count(\"<|image_1|>\"):\n",
    "                count += 1\n",
    "                break\n",
    "print(f\"Number of retrieval samples with I2T or IT2T modality and <|image_1|> in neg_text: {count}\")"
   ]
  },
  {
   "cell_type": "code",
   "execution_count": null,
   "metadata": {},
   "outputs": [],
   "source": [
    "dataset_path = \"/fs/archive/share/mm_datasets/mmE5/mmE5-MMEB-hardneg/\"\n",
    "\n",
    "subsets = ['TAT-DQA', 'ArxivQA', 'InfoSeek_it2t', 'InfoSeek_it2it', 'ImageNet_1K', 'N24News', 'HatefulMemes', 'SUN397', 'VOC2007', 'InfographicsVQA', 'ChartQA', 'A-OKVQA', 'DocVQA', 'OK-VQA', 'Visual7W', 'VisDial', 'CIRR', 'NIGHTS', 'WebQA', 'VisualNews_i2t', 'VisualNews_t2i', 'MSCOCO_i2t', 'MSCOCO_t2i', 'MSCOCO']\n",
    "mmeb_hardneg_dataset = {}\n",
    "for subset in subsets:\n",
    "    subset_data = load_dataset(\n",
    "                        dataset_path,\n",
    "                        subset,\n",
    "                        split=\"train\",\n",
    "                    )\n",
    "    mmeb_hardneg_dataset[subset] = subset_data"
   ]
  },
  {
   "cell_type": "code",
   "execution_count": null,
   "metadata": {},
   "outputs": [
    {
     "name": "stdout",
     "output_type": "stream",
     "text": [
      "Found in MMEB hardneg subset: WebQA\n",
      "{'qry': '<|image_1|>\\nFind a Wikipedia image that answers this question: The Shard London Bridge is taller than nearby buildings?\\n', 'qry_image_path': '', 'pos_text': '<|image_1|>\\nRepresent the given Wikipedia image with related text information: London 01 2013 the Shard London Bridge 5205  The Shard London Bridge from Tower Hill, London.\\n', 'pos_image_path': 'images/WebQA/Train/30147253.jpg', 'neg_text': \"['<|image_1|>\\\\nRepresent the given Wikipedia image with related text information: MahaNakhon Tower unfinished (Bangkok Thailand) (20275977358) MahaNakhon is the tallest skyscraper in Bangkok. The building had been topped of, but was still under construction, when the photo was taken.\\\\n', '<|image_1|>\\\\nRepresent the given Wikipedia image with related text information: Soho, London, UK - panoramio (6).\\\\n', '<|image_1|>\\\\nRepresent the given Wikipedia image with related text information: Sydney CBD at night, seen from Meriton Serviced Apartments Kent Street, Sydney 04 Sydney CBD at night, seen from Meriton Serviced Apartments Kent Street, Sydney.\\\\n', '<|image_1|>\\\\nRepresent the given Wikipedia image with related text information: Chrysler Building - 05 Chrysler Building, New York, United States.\\\\n', '<|image_1|>\\\\nRepresent the given Wikipedia image with related text information: Sydney Tower from above  Sydney Tower from above.\\\\n', '<|image_1|>\\\\nRepresent the given Wikipedia image with related text information: Roppongi Hills Mori Tower from Tokyo Tower Day Mori Tower in Roppongi Hills during the day as seen from Tokyo Tower.\\\\n', '<|image_1|>\\\\nRepresent the given Wikipedia image with related text information: London 2517.\\\\n', '<|image_1|>\\\\nRepresent the given Wikipedia image with related text information: 1 shibuya crossing 2012 shibuya crossing japan tokyo 2012 night.\\\\n', '<|image_1|>\\\\nRepresent the given Wikipedia image with related text information: Pioneer Square from Columbia Center The Pioneer Square neighborhood of Seattle, as seen from the Columbia Center.\\\\n', '<|image_1|>\\\\nRepresent the given Wikipedia image with related text information: Shadow of the Eiffel Tower, July 12, 2013.\\\\n', '<|image_1|>\\\\nRepresent the given Wikipedia image with related text information: Singapore, Downtown Core (I) As the financial Heart of Singapore, the Downtown Core houses the headquarters and offices of numerous corporations, as well as the Singapore Exchange. The area is also home to many governmental institutions, notably the seat of Parliament and the Supreme Court of Singapore.\\\\n']\", 'neg_image_path': \"['images/WebQA/Train/30266179.jpg', 'images/WebQA/Train/30332877.jpg', 'images/WebQA/Train/30328452.jpg', 'images/WebQA/Train/30165634.jpg', 'images/WebQA/Train/30107183.jpg', 'images/WebQA/Train/30181414.jpg', 'images/WebQA/Train/30254124.jpg', 'images/WebQA/Train/30027730.jpg', 'images/WebQA/Train/30260542.jpg', 'images/WebQA/Train/30193410.jpg', 'images/WebQA/Train/30052105.jpg']\"}\n"
     ]
    }
   ],
   "source": [
    "for subset_name, subset_data in mmeb_hardneg_dataset.items():\n",
    "    for data in subset_data:\n",
    "        if query_text in data[\"qry\"]:\n",
    "            print(f\"Found in MMEB hardneg subset: {subset_name}\")\n",
    "            print(data)\n",
    "            break"
   ]
  },
  {
   "cell_type": "code",
   "execution_count": null,
   "metadata": {},
   "outputs": [
    {
     "name": "stdout",
     "output_type": "stream",
     "text": [
      "Number of samples in TAT-DQA with <|image_1|> in qry and empty qry_image_path: 0\n",
      "Number of samples in ArxivQA with <|image_1|> in qry and empty qry_image_path: 0\n",
      "Number of samples in InfoSeek_it2t with <|image_1|> in qry and empty qry_image_path: 0\n",
      "Number of samples in InfoSeek_it2it with <|image_1|> in qry and empty qry_image_path: 0\n",
      "Number of samples in ImageNet_1K with <|image_1|> in qry and empty qry_image_path: 0\n",
      "Number of samples in N24News with <|image_1|> in qry and empty qry_image_path: 0\n",
      "Number of samples in HatefulMemes with <|image_1|> in qry and empty qry_image_path: 0\n",
      "Number of samples in SUN397 with <|image_1|> in qry and empty qry_image_path: 0\n",
      "Number of samples in VOC2007 with <|image_1|> in qry and empty qry_image_path: 0\n",
      "Number of samples in InfographicsVQA with <|image_1|> in qry and empty qry_image_path: 0\n",
      "Number of samples in ChartQA with <|image_1|> in qry and empty qry_image_path: 0\n",
      "Number of samples in A-OKVQA with <|image_1|> in qry and empty qry_image_path: 0\n",
      "Number of samples in DocVQA with <|image_1|> in qry and empty qry_image_path: 0\n",
      "Number of samples in OK-VQA with <|image_1|> in qry and empty qry_image_path: 0\n",
      "Number of samples in Visual7W with <|image_1|> in qry and empty qry_image_path: 0\n",
      "Number of samples in VisDial with <|image_1|> in qry and empty qry_image_path: 0\n",
      "Number of samples in CIRR with <|image_1|> in qry and empty qry_image_path: 0\n",
      "Number of samples in NIGHTS with <|image_1|> in qry and empty qry_image_path: 0\n",
      "Number of samples in WebQA with <|image_1|> in qry and empty qry_image_path: 17165\n",
      "Number of samples in VisualNews_i2t with <|image_1|> in qry and empty qry_image_path: 0\n",
      "Number of samples in VisualNews_t2i with <|image_1|> in qry and empty qry_image_path: 0\n",
      "Number of samples in MSCOCO_i2t with <|image_1|> in qry and empty qry_image_path: 0\n",
      "Number of samples in MSCOCO_t2i with <|image_1|> in qry and empty qry_image_path: 0\n",
      "Number of samples in MSCOCO with <|image_1|> in qry and empty qry_image_path: 0\n"
     ]
    }
   ],
   "source": [
    "for subset_name, subset_data in mmeb_hardneg_dataset.items():\n",
    "    count = 0\n",
    "    for data in subset_data:\n",
    "        if \"<|image_1|>\" in data[\"qry\"] and data[\"qry_image_path\"] == \"\":\n",
    "            count += 1\n",
    "    print(f\"Number of samples in {subset_name} with <|image_1|> in qry and empty qry_image_path: {count}\")"
   ]
  }
 ],
 "metadata": {
  "kernelspec": {
   "display_name": "mrag",
   "language": "python",
   "name": "python3"
  },
  "language_info": {
   "codemirror_mode": {
    "name": "ipython",
    "version": 3
   },
   "file_extension": ".py",
   "mimetype": "text/x-python",
   "name": "python",
   "nbconvert_exporter": "python",
   "pygments_lexer": "ipython3",
   "version": "3.11.11"
  }
 },
 "nbformat": 4,
 "nbformat_minor": 2
}
